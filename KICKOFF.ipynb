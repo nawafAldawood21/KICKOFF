{
 "cells": [
  {
   "cell_type": "markdown",
   "metadata": {},
   "source": [
    "## KICKOFF Project\n",
    "### Kickoff is a project that predict the results of matches in the FIFA World Cup 2022 \n",
    "\n",
    "## Section1: Business Understanding\n",
    "    We will ansewr three question on the end of this notebook\n",
    "    \n",
    "   ### Question 1: Which teams have the better odds to domenate their groups according to KICKOFF?\n",
    "   ### Question 2: Which team will be the black horse in the World Cup ?\n",
    "   ### Question 3: Who will win the World Cup according to KICKOFF?\n"
   ]
  },
  {
   "cell_type": "markdown",
   "metadata": {},
   "source": [
    "## Section2: Data Understanding\n",
    "\n",
    "### Step.No1: Gathering Data \n",
    "##### We will import the datasets that we will going to use\n",
    "###### match_df : it's has all the international matches from 1993 until 6/2022.\n",
    "###### rank_df : it's has the FIFA rank for all nations. (FIFA rank: is an offical rank form FIFA based on the proformance of the teams).\n",
    "###### worldcup_match_df : it's has all the matches that will happen in Qatar world cup 2022."
   ]
  },
  {
   "cell_type": "code",
   "execution_count": 28,
   "metadata": {},
   "outputs": [],
   "source": [
    "# import pandas\n",
    "import pandas as pd\n",
    "match_df=pd.read_csv('international_matches.csv')\n",
    "rank_df=pd.read_csv('fifa_ranking_2022-10-06.csv')\n",
    "worldcup_match_df = pd.read_csv('matchs-schudule.csv',sep=';')"
   ]
  },
  {
   "cell_type": "code",
   "execution_count": 29,
   "metadata": {},
   "outputs": [
    {
     "data": {
      "text/html": [
       "<div>\n",
       "<style scoped>\n",
       "    .dataframe tbody tr th:only-of-type {\n",
       "        vertical-align: middle;\n",
       "    }\n",
       "\n",
       "    .dataframe tbody tr th {\n",
       "        vertical-align: top;\n",
       "    }\n",
       "\n",
       "    .dataframe thead th {\n",
       "        text-align: right;\n",
       "    }\n",
       "</style>\n",
       "<table border=\"1\" class=\"dataframe\">\n",
       "  <thead>\n",
       "    <tr style=\"text-align: right;\">\n",
       "      <th></th>\n",
       "      <th>team</th>\n",
       "      <th>team_code</th>\n",
       "      <th>association</th>\n",
       "      <th>rank</th>\n",
       "      <th>previous_rank</th>\n",
       "      <th>points</th>\n",
       "      <th>previous_points</th>\n",
       "    </tr>\n",
       "  </thead>\n",
       "  <tbody>\n",
       "    <tr>\n",
       "      <th>0</th>\n",
       "      <td>Brazil</td>\n",
       "      <td>BRA</td>\n",
       "      <td>CONMEBOL</td>\n",
       "      <td>1</td>\n",
       "      <td>1</td>\n",
       "      <td>1841.30</td>\n",
       "      <td>1837.56</td>\n",
       "    </tr>\n",
       "    <tr>\n",
       "      <th>1</th>\n",
       "      <td>Belgium</td>\n",
       "      <td>BEL</td>\n",
       "      <td>UEFA</td>\n",
       "      <td>2</td>\n",
       "      <td>2</td>\n",
       "      <td>1816.71</td>\n",
       "      <td>1821.92</td>\n",
       "    </tr>\n",
       "    <tr>\n",
       "      <th>2</th>\n",
       "      <td>Argentina</td>\n",
       "      <td>ARG</td>\n",
       "      <td>CONMEBOL</td>\n",
       "      <td>3</td>\n",
       "      <td>3</td>\n",
       "      <td>1773.88</td>\n",
       "      <td>1770.65</td>\n",
       "    </tr>\n",
       "    <tr>\n",
       "      <th>3</th>\n",
       "      <td>France</td>\n",
       "      <td>FRA</td>\n",
       "      <td>UEFA</td>\n",
       "      <td>4</td>\n",
       "      <td>4</td>\n",
       "      <td>1759.78</td>\n",
       "      <td>1764.85</td>\n",
       "    </tr>\n",
       "    <tr>\n",
       "      <th>4</th>\n",
       "      <td>England</td>\n",
       "      <td>ENG</td>\n",
       "      <td>UEFA</td>\n",
       "      <td>5</td>\n",
       "      <td>5</td>\n",
       "      <td>1728.47</td>\n",
       "      <td>1737.46</td>\n",
       "    </tr>\n",
       "  </tbody>\n",
       "</table>\n",
       "</div>"
      ],
      "text/plain": [
       "        team team_code association  rank  previous_rank   points  \\\n",
       "0     Brazil       BRA    CONMEBOL     1              1  1841.30   \n",
       "1    Belgium       BEL        UEFA     2              2  1816.71   \n",
       "2  Argentina       ARG    CONMEBOL     3              3  1773.88   \n",
       "3     France       FRA        UEFA     4              4  1759.78   \n",
       "4    England       ENG        UEFA     5              5  1728.47   \n",
       "\n",
       "   previous_points  \n",
       "0          1837.56  \n",
       "1          1821.92  \n",
       "2          1770.65  \n",
       "3          1764.85  \n",
       "4          1737.46  "
      ]
     },
     "execution_count": 29,
     "metadata": {},
     "output_type": "execute_result"
    }
   ],
   "source": [
    "rank_df.head()"
   ]
  },
  {
   "cell_type": "code",
   "execution_count": 30,
   "metadata": {},
   "outputs": [
    {
     "data": {
      "text/html": [
       "<div>\n",
       "<style scoped>\n",
       "    .dataframe tbody tr th:only-of-type {\n",
       "        vertical-align: middle;\n",
       "    }\n",
       "\n",
       "    .dataframe tbody tr th {\n",
       "        vertical-align: top;\n",
       "    }\n",
       "\n",
       "    .dataframe thead th {\n",
       "        text-align: right;\n",
       "    }\n",
       "</style>\n",
       "<table border=\"1\" class=\"dataframe\">\n",
       "  <thead>\n",
       "    <tr style=\"text-align: right;\">\n",
       "      <th></th>\n",
       "      <th>match</th>\n",
       "      <th>date</th>\n",
       "      <th>country1</th>\n",
       "      <th>coutry2</th>\n",
       "      <th>phase</th>\n",
       "    </tr>\n",
       "  </thead>\n",
       "  <tbody>\n",
       "    <tr>\n",
       "      <th>0</th>\n",
       "      <td>1</td>\n",
       "      <td>21/11/2022</td>\n",
       "      <td>Qatar</td>\n",
       "      <td>Ecuador</td>\n",
       "      <td>group matches</td>\n",
       "    </tr>\n",
       "    <tr>\n",
       "      <th>1</th>\n",
       "      <td>2</td>\n",
       "      <td>21/11/2022</td>\n",
       "      <td>Senegal</td>\n",
       "      <td>Netherlands</td>\n",
       "      <td>group matches</td>\n",
       "    </tr>\n",
       "    <tr>\n",
       "      <th>2</th>\n",
       "      <td>3</td>\n",
       "      <td>21/11/2022</td>\n",
       "      <td>England</td>\n",
       "      <td>Iran</td>\n",
       "      <td>group matches</td>\n",
       "    </tr>\n",
       "    <tr>\n",
       "      <th>3</th>\n",
       "      <td>4</td>\n",
       "      <td>21/11/2022</td>\n",
       "      <td>USA</td>\n",
       "      <td>Wales</td>\n",
       "      <td>group matches</td>\n",
       "    </tr>\n",
       "    <tr>\n",
       "      <th>4</th>\n",
       "      <td>5</td>\n",
       "      <td>22/11/2022</td>\n",
       "      <td>France</td>\n",
       "      <td>Australia</td>\n",
       "      <td>group matches</td>\n",
       "    </tr>\n",
       "  </tbody>\n",
       "</table>\n",
       "</div>"
      ],
      "text/plain": [
       "   match        date country1      coutry2          phase\n",
       "0      1  21/11/2022    Qatar      Ecuador  group matches\n",
       "1      2  21/11/2022  Senegal  Netherlands  group matches\n",
       "2      3  21/11/2022  England         Iran  group matches\n",
       "3      4  21/11/2022      USA        Wales  group matches\n",
       "4      5  22/11/2022   France    Australia  group matches"
      ]
     },
     "execution_count": 30,
     "metadata": {},
     "output_type": "execute_result"
    }
   ],
   "source": [
    "worldcup_match_df.head()"
   ]
  },
  {
   "cell_type": "markdown",
   "metadata": {},
   "source": [
    "### we will create new dataframe for the teams that will be in Qatar 2022"
   ]
  },
  {
   "cell_type": "code",
   "execution_count": 31,
   "metadata": {},
   "outputs": [
    {
     "data": {
      "text/html": [
       "<div>\n",
       "<style scoped>\n",
       "    .dataframe tbody tr th:only-of-type {\n",
       "        vertical-align: middle;\n",
       "    }\n",
       "\n",
       "    .dataframe tbody tr th {\n",
       "        vertical-align: top;\n",
       "    }\n",
       "\n",
       "    .dataframe thead th {\n",
       "        text-align: right;\n",
       "    }\n",
       "</style>\n",
       "<table border=\"1\" class=\"dataframe\">\n",
       "  <thead>\n",
       "    <tr style=\"text-align: right;\">\n",
       "      <th></th>\n",
       "      <th>Team</th>\n",
       "      <th>Group</th>\n",
       "    </tr>\n",
       "  </thead>\n",
       "  <tbody>\n",
       "    <tr>\n",
       "      <th>0</th>\n",
       "      <td>Qatar</td>\n",
       "      <td>A</td>\n",
       "    </tr>\n",
       "    <tr>\n",
       "      <th>1</th>\n",
       "      <td>Ecuador</td>\n",
       "      <td>A</td>\n",
       "    </tr>\n",
       "    <tr>\n",
       "      <th>2</th>\n",
       "      <td>Senegal</td>\n",
       "      <td>A</td>\n",
       "    </tr>\n",
       "    <tr>\n",
       "      <th>3</th>\n",
       "      <td>Netherlands</td>\n",
       "      <td>A</td>\n",
       "    </tr>\n",
       "    <tr>\n",
       "      <th>4</th>\n",
       "      <td>England</td>\n",
       "      <td>B</td>\n",
       "    </tr>\n",
       "  </tbody>\n",
       "</table>\n",
       "</div>"
      ],
      "text/plain": [
       "          Team Group\n",
       "0        Qatar     A\n",
       "1      Ecuador     A\n",
       "2      Senegal     A\n",
       "3  Netherlands     A\n",
       "4      England     B"
      ]
     },
     "execution_count": 31,
     "metadata": {},
     "output_type": "execute_result"
    }
   ],
   "source": [
    "teams_data=[['Qatar', 'A'], ['Ecuador', 'A'], ['Senegal', 'A'],['Netherlands','A'],\n",
    "            ['England','B'],['Iran','B'],['USA','B'],['Wales','B'],\n",
    "            ['Argentina','C'],['Saudi Arabia','C'],['Mexico','C'],['Poland','C'],\n",
    "            ['France','D'],['Denmark','D'],['Tunisia','D'],['Australia','D'],\n",
    "            ['Spain','E'],['Costa Rica','E'],['Germany','E'],['Japan','E'],\n",
    "            ['Belgium','F'],['Canada','F'],['Morocco','F'],['Croatia','F'],\n",
    "            ['Brazil','G'],['Serbia','G'],['Switzerland','G'],['Cameroon','G'],\n",
    "            ['Portugal','H'],['Ghana','H'],['Uruguay','H'],['South Korea','H']]\n",
    "\n",
    "teams_df = pd.DataFrame(teams_data, columns=['Team', 'Group'])\n",
    "teams_df.head()"
   ]
  },
  {
   "cell_type": "markdown",
   "metadata": {},
   "source": [
    "## Section3: Prepare Data\n",
    "\n",
    "### : Cleaning Data \n",
    "##### We will need to clean the data because there is some column we don't need.\n",
    "##### Before deleting any columns there are some columns we need we will add it."
   ]
  },
  {
   "cell_type": "code",
   "execution_count": 32,
   "metadata": {},
   "outputs": [
    {
     "name": "stdout",
     "output_type": "stream",
     "text": [
      "<class 'pandas.core.frame.DataFrame'>\n",
      "RangeIndex: 23921 entries, 0 to 23920\n",
      "Data columns (total 25 columns):\n",
      "date                             23921 non-null object\n",
      "home_team                        23921 non-null object\n",
      "away_team                        23921 non-null object\n",
      "home_team_continent              23921 non-null object\n",
      "away_team_continent              23921 non-null object\n",
      "home_team_fifa_rank              23921 non-null int64\n",
      "away_team_fifa_rank              23921 non-null int64\n",
      "home_team_total_fifa_points      23921 non-null int64\n",
      "away_team_total_fifa_points      23921 non-null int64\n",
      "home_team_score                  23921 non-null int64\n",
      "away_team_score                  23921 non-null int64\n",
      "tournament                       23921 non-null object\n",
      "city                             23921 non-null object\n",
      "country                          23921 non-null object\n",
      "neutral_location                 23921 non-null bool\n",
      "shoot_out                        23921 non-null object\n",
      "home_team_result                 23921 non-null object\n",
      "home_team_goalkeeper_score       8379 non-null float64\n",
      "away_team_goalkeeper_score       8095 non-null float64\n",
      "home_team_mean_defense_score     7787 non-null float64\n",
      "home_team_mean_offense_score     8510 non-null float64\n",
      "home_team_mean_midfield_score    8162 non-null float64\n",
      "away_team_mean_defense_score     7564 non-null float64\n",
      "away_team_mean_offense_score     8312 non-null float64\n",
      "away_team_mean_midfield_score    7979 non-null float64\n",
      "dtypes: bool(1), float64(8), int64(6), object(10)\n",
      "memory usage: 4.4+ MB\n"
     ]
    }
   ],
   "source": [
    "match_df.info()"
   ]
  },
  {
   "cell_type": "markdown",
   "metadata": {},
   "source": [
    "### For match_df we will add these following columns that we think it will help us:\n",
    "\n",
    "##### rank_difference: the rank diffrence between the two teams that play against each other.\n",
    "##### average_rank: the average rank of the two teams.\n",
    "##### point_difference: the rank point difference between the two teams.\n",
    "##### is_offical: is the match between these two team friendly or not, it will be Bool as if it friendly it will be False otherwise will be True.\n",
    "##### is_worldcup:is the match between these two team in the world cup or not, it will be Bool as if it is in the world cup it will be True otherwise will be False.\n",
    "##### score_difference: we wiil use it to know the winner is it the home team or not.(we will not going to use it in the model)\n",
    "##### is_won: based on score_difference if it is >0 it will be True otherwise it will be false.\n"
   ]
  },
  {
   "cell_type": "code",
   "execution_count": 33,
   "metadata": {},
   "outputs": [],
   "source": [
    "match_df['rank_difference'] = match_df['home_team_fifa_rank'] - match_df['away_team_fifa_rank']\n",
    "match_df['average_rank'] = (match_df['home_team_fifa_rank'] + match_df['away_team_fifa_rank'])/2\n",
    "match_df['point_difference'] = match_df['home_team_total_fifa_points'] - match_df['away_team_total_fifa_points']\n",
    "match_df['is_stake'] = match_df['tournament'] != 'Friendly'\n",
    "match_df['is_worldcup'] = 'FIFA World Cup' in match_df['tournament']\n",
    "match_df['score_difference'] = match_df['home_team_score'] - match_df['away_team_score'] \n",
    "match_df['is_won'] = match_df['score_difference'] > 0 "
   ]
  },
  {
   "cell_type": "code",
   "execution_count": 34,
   "metadata": {
    "scrolled": true
   },
   "outputs": [
    {
     "data": {
      "text/html": [
       "<div>\n",
       "<style scoped>\n",
       "    .dataframe tbody tr th:only-of-type {\n",
       "        vertical-align: middle;\n",
       "    }\n",
       "\n",
       "    .dataframe tbody tr th {\n",
       "        vertical-align: top;\n",
       "    }\n",
       "\n",
       "    .dataframe thead th {\n",
       "        text-align: right;\n",
       "    }\n",
       "</style>\n",
       "<table border=\"1\" class=\"dataframe\">\n",
       "  <thead>\n",
       "    <tr style=\"text-align: right;\">\n",
       "      <th></th>\n",
       "      <th>date</th>\n",
       "      <th>home_team</th>\n",
       "      <th>away_team</th>\n",
       "      <th>home_team_continent</th>\n",
       "      <th>away_team_continent</th>\n",
       "      <th>home_team_fifa_rank</th>\n",
       "      <th>away_team_fifa_rank</th>\n",
       "      <th>home_team_total_fifa_points</th>\n",
       "      <th>away_team_total_fifa_points</th>\n",
       "      <th>home_team_score</th>\n",
       "      <th>...</th>\n",
       "      <th>away_team_mean_defense_score</th>\n",
       "      <th>away_team_mean_offense_score</th>\n",
       "      <th>away_team_mean_midfield_score</th>\n",
       "      <th>rank_difference</th>\n",
       "      <th>average_rank</th>\n",
       "      <th>point_difference</th>\n",
       "      <th>is_stake</th>\n",
       "      <th>is_worldcup</th>\n",
       "      <th>score_difference</th>\n",
       "      <th>is_won</th>\n",
       "    </tr>\n",
       "  </thead>\n",
       "  <tbody>\n",
       "    <tr>\n",
       "      <th>0</th>\n",
       "      <td>1993-08-08</td>\n",
       "      <td>Bolivia</td>\n",
       "      <td>Uruguay</td>\n",
       "      <td>South America</td>\n",
       "      <td>South America</td>\n",
       "      <td>59</td>\n",
       "      <td>22</td>\n",
       "      <td>0</td>\n",
       "      <td>0</td>\n",
       "      <td>3</td>\n",
       "      <td>...</td>\n",
       "      <td>NaN</td>\n",
       "      <td>NaN</td>\n",
       "      <td>NaN</td>\n",
       "      <td>37</td>\n",
       "      <td>40.5</td>\n",
       "      <td>0</td>\n",
       "      <td>True</td>\n",
       "      <td>False</td>\n",
       "      <td>2</td>\n",
       "      <td>True</td>\n",
       "    </tr>\n",
       "    <tr>\n",
       "      <th>1</th>\n",
       "      <td>1993-08-08</td>\n",
       "      <td>Brazil</td>\n",
       "      <td>Mexico</td>\n",
       "      <td>South America</td>\n",
       "      <td>North America</td>\n",
       "      <td>8</td>\n",
       "      <td>14</td>\n",
       "      <td>0</td>\n",
       "      <td>0</td>\n",
       "      <td>1</td>\n",
       "      <td>...</td>\n",
       "      <td>NaN</td>\n",
       "      <td>NaN</td>\n",
       "      <td>NaN</td>\n",
       "      <td>-6</td>\n",
       "      <td>11.0</td>\n",
       "      <td>0</td>\n",
       "      <td>False</td>\n",
       "      <td>False</td>\n",
       "      <td>0</td>\n",
       "      <td>False</td>\n",
       "    </tr>\n",
       "    <tr>\n",
       "      <th>2</th>\n",
       "      <td>1993-08-08</td>\n",
       "      <td>Ecuador</td>\n",
       "      <td>Venezuela</td>\n",
       "      <td>South America</td>\n",
       "      <td>South America</td>\n",
       "      <td>35</td>\n",
       "      <td>94</td>\n",
       "      <td>0</td>\n",
       "      <td>0</td>\n",
       "      <td>5</td>\n",
       "      <td>...</td>\n",
       "      <td>NaN</td>\n",
       "      <td>NaN</td>\n",
       "      <td>NaN</td>\n",
       "      <td>-59</td>\n",
       "      <td>64.5</td>\n",
       "      <td>0</td>\n",
       "      <td>True</td>\n",
       "      <td>False</td>\n",
       "      <td>5</td>\n",
       "      <td>True</td>\n",
       "    </tr>\n",
       "    <tr>\n",
       "      <th>3</th>\n",
       "      <td>1993-08-08</td>\n",
       "      <td>Guinea</td>\n",
       "      <td>Sierra Leone</td>\n",
       "      <td>Africa</td>\n",
       "      <td>Africa</td>\n",
       "      <td>65</td>\n",
       "      <td>86</td>\n",
       "      <td>0</td>\n",
       "      <td>0</td>\n",
       "      <td>1</td>\n",
       "      <td>...</td>\n",
       "      <td>NaN</td>\n",
       "      <td>NaN</td>\n",
       "      <td>NaN</td>\n",
       "      <td>-21</td>\n",
       "      <td>75.5</td>\n",
       "      <td>0</td>\n",
       "      <td>False</td>\n",
       "      <td>False</td>\n",
       "      <td>1</td>\n",
       "      <td>True</td>\n",
       "    </tr>\n",
       "    <tr>\n",
       "      <th>4</th>\n",
       "      <td>1993-08-08</td>\n",
       "      <td>Paraguay</td>\n",
       "      <td>Argentina</td>\n",
       "      <td>South America</td>\n",
       "      <td>South America</td>\n",
       "      <td>67</td>\n",
       "      <td>5</td>\n",
       "      <td>0</td>\n",
       "      <td>0</td>\n",
       "      <td>1</td>\n",
       "      <td>...</td>\n",
       "      <td>NaN</td>\n",
       "      <td>NaN</td>\n",
       "      <td>NaN</td>\n",
       "      <td>62</td>\n",
       "      <td>36.0</td>\n",
       "      <td>0</td>\n",
       "      <td>True</td>\n",
       "      <td>False</td>\n",
       "      <td>-2</td>\n",
       "      <td>False</td>\n",
       "    </tr>\n",
       "  </tbody>\n",
       "</table>\n",
       "<p>5 rows × 32 columns</p>\n",
       "</div>"
      ],
      "text/plain": [
       "         date home_team     away_team home_team_continent away_team_continent  \\\n",
       "0  1993-08-08   Bolivia       Uruguay       South America       South America   \n",
       "1  1993-08-08    Brazil        Mexico       South America       North America   \n",
       "2  1993-08-08   Ecuador     Venezuela       South America       South America   \n",
       "3  1993-08-08    Guinea  Sierra Leone              Africa              Africa   \n",
       "4  1993-08-08  Paraguay     Argentina       South America       South America   \n",
       "\n",
       "   home_team_fifa_rank  away_team_fifa_rank  home_team_total_fifa_points  \\\n",
       "0                   59                   22                            0   \n",
       "1                    8                   14                            0   \n",
       "2                   35                   94                            0   \n",
       "3                   65                   86                            0   \n",
       "4                   67                    5                            0   \n",
       "\n",
       "   away_team_total_fifa_points  home_team_score   ...    \\\n",
       "0                            0                3   ...     \n",
       "1                            0                1   ...     \n",
       "2                            0                5   ...     \n",
       "3                            0                1   ...     \n",
       "4                            0                1   ...     \n",
       "\n",
       "   away_team_mean_defense_score away_team_mean_offense_score  \\\n",
       "0                           NaN                          NaN   \n",
       "1                           NaN                          NaN   \n",
       "2                           NaN                          NaN   \n",
       "3                           NaN                          NaN   \n",
       "4                           NaN                          NaN   \n",
       "\n",
       "  away_team_mean_midfield_score rank_difference  average_rank  \\\n",
       "0                           NaN              37          40.5   \n",
       "1                           NaN              -6          11.0   \n",
       "2                           NaN             -59          64.5   \n",
       "3                           NaN             -21          75.5   \n",
       "4                           NaN              62          36.0   \n",
       "\n",
       "  point_difference is_stake  is_worldcup  score_difference  is_won  \n",
       "0                0     True        False                 2    True  \n",
       "1                0    False        False                 0   False  \n",
       "2                0     True        False                 5    True  \n",
       "3                0    False        False                 1    True  \n",
       "4                0     True        False                -2   False  \n",
       "\n",
       "[5 rows x 32 columns]"
      ]
     },
     "execution_count": 34,
     "metadata": {},
     "output_type": "execute_result"
    }
   ],
   "source": [
    "match_df.head()"
   ]
  },
  {
   "cell_type": "code",
   "execution_count": 35,
   "metadata": {},
   "outputs": [],
   "source": [
    "#change some teams name\n",
    "match_df = match_df.replace({\"IR Iran\": \"Iran\", \"Korea Republic\" : \"South Korea\"})\n",
    "rank_df = rank_df.replace({\"IR Iran\": \"Iran\", \"Korea Republic\" : \"South Korea\"})"
   ]
  },
  {
   "cell_type": "code",
   "execution_count": 36,
   "metadata": {},
   "outputs": [
    {
     "data": {
      "text/plain": [
       "Index(['Brazil', 'Belgium', 'Argentina', 'France', 'England', 'Spain',\n",
       "       'Netherlands', 'Portugal', 'Denmark', 'Germany', 'Croatia', 'Mexico',\n",
       "       'Uruguay', 'Switzerland', 'USA', 'Senegal', 'Wales', 'Iran', 'Serbia',\n",
       "       'Morocco', 'Japan', 'Poland', 'South Korea', 'Tunisia', 'Costa Rica',\n",
       "       'Australia', 'Canada', 'Cameroon', 'Ecuador', 'Qatar', 'Saudi Arabia',\n",
       "       'Ghana'],\n",
       "      dtype='object', name='team')"
      ]
     },
     "execution_count": 36,
     "metadata": {},
     "output_type": "execute_result"
    }
   ],
   "source": [
    "# We will remove the teams that will not play in the World Cup from rank_df\n",
    "rank_df = rank_df.loc[(rank_df['team'].isin(teams_df['Team'].unique()))]\n",
    "rank_df=rank_df.set_index(['team'])\n",
    "rank_df.index.unique()"
   ]
  },
  {
   "cell_type": "markdown",
   "metadata": {},
   "source": [
    "### Now we will drop the columns that we no longer need.\n",
    "#### we droped these columns because they have so many missing value and they do not add much to our results and some of the coulmns we used it to find something like we used home_team_fifa_rank and away_team_fifa_rank to find the average_rank and now we do not need them any more. Also their are columns that do not have any benfit to us like shoot_out and home_team_goalkeeper_score etc."
   ]
  },
  {
   "cell_type": "code",
   "execution_count": 37,
   "metadata": {},
   "outputs": [],
   "source": [
    "match_df.drop(['date', 'home_team_continent', 'away_team_continent', 'home_team_fifa_rank', 'away_team_fifa_rank',\n",
    "               'home_team_total_fifa_points','away_team_total_fifa_points','home_team_score','away_team_score',\n",
    "               'tournament','city','country','neutral_location','shoot_out','home_team_result','home_team_goalkeeper_score',\n",
    "               'away_team_goalkeeper_score','home_team_mean_defense_score','home_team_mean_offense_score','home_team_mean_midfield_score',\n",
    "               'away_team_mean_defense_score','away_team_mean_offense_score','away_team_mean_midfield_score','score_difference'], axis=1,inplace=True)"
   ]
  },
  {
   "cell_type": "code",
   "execution_count": 38,
   "metadata": {},
   "outputs": [
    {
     "data": {
      "text/html": [
       "<div>\n",
       "<style scoped>\n",
       "    .dataframe tbody tr th:only-of-type {\n",
       "        vertical-align: middle;\n",
       "    }\n",
       "\n",
       "    .dataframe tbody tr th {\n",
       "        vertical-align: top;\n",
       "    }\n",
       "\n",
       "    .dataframe thead th {\n",
       "        text-align: right;\n",
       "    }\n",
       "</style>\n",
       "<table border=\"1\" class=\"dataframe\">\n",
       "  <thead>\n",
       "    <tr style=\"text-align: right;\">\n",
       "      <th></th>\n",
       "      <th>home_team</th>\n",
       "      <th>away_team</th>\n",
       "      <th>rank_difference</th>\n",
       "      <th>average_rank</th>\n",
       "      <th>point_difference</th>\n",
       "      <th>is_stake</th>\n",
       "      <th>is_worldcup</th>\n",
       "      <th>is_won</th>\n",
       "    </tr>\n",
       "  </thead>\n",
       "  <tbody>\n",
       "    <tr>\n",
       "      <th>0</th>\n",
       "      <td>Bolivia</td>\n",
       "      <td>Uruguay</td>\n",
       "      <td>37</td>\n",
       "      <td>40.5</td>\n",
       "      <td>0</td>\n",
       "      <td>True</td>\n",
       "      <td>False</td>\n",
       "      <td>True</td>\n",
       "    </tr>\n",
       "    <tr>\n",
       "      <th>1</th>\n",
       "      <td>Brazil</td>\n",
       "      <td>Mexico</td>\n",
       "      <td>-6</td>\n",
       "      <td>11.0</td>\n",
       "      <td>0</td>\n",
       "      <td>False</td>\n",
       "      <td>False</td>\n",
       "      <td>False</td>\n",
       "    </tr>\n",
       "    <tr>\n",
       "      <th>2</th>\n",
       "      <td>Ecuador</td>\n",
       "      <td>Venezuela</td>\n",
       "      <td>-59</td>\n",
       "      <td>64.5</td>\n",
       "      <td>0</td>\n",
       "      <td>True</td>\n",
       "      <td>False</td>\n",
       "      <td>True</td>\n",
       "    </tr>\n",
       "    <tr>\n",
       "      <th>3</th>\n",
       "      <td>Guinea</td>\n",
       "      <td>Sierra Leone</td>\n",
       "      <td>-21</td>\n",
       "      <td>75.5</td>\n",
       "      <td>0</td>\n",
       "      <td>False</td>\n",
       "      <td>False</td>\n",
       "      <td>True</td>\n",
       "    </tr>\n",
       "    <tr>\n",
       "      <th>4</th>\n",
       "      <td>Paraguay</td>\n",
       "      <td>Argentina</td>\n",
       "      <td>62</td>\n",
       "      <td>36.0</td>\n",
       "      <td>0</td>\n",
       "      <td>True</td>\n",
       "      <td>False</td>\n",
       "      <td>False</td>\n",
       "    </tr>\n",
       "  </tbody>\n",
       "</table>\n",
       "</div>"
      ],
      "text/plain": [
       "  home_team     away_team  rank_difference  average_rank  point_difference  \\\n",
       "0   Bolivia       Uruguay               37          40.5                 0   \n",
       "1    Brazil        Mexico               -6          11.0                 0   \n",
       "2   Ecuador     Venezuela              -59          64.5                 0   \n",
       "3    Guinea  Sierra Leone              -21          75.5                 0   \n",
       "4  Paraguay     Argentina               62          36.0                 0   \n",
       "\n",
       "   is_stake  is_worldcup  is_won  \n",
       "0      True        False    True  \n",
       "1     False        False   False  \n",
       "2      True        False    True  \n",
       "3     False        False    True  \n",
       "4      True        False   False  "
      ]
     },
     "execution_count": 38,
     "metadata": {},
     "output_type": "execute_result"
    }
   ],
   "source": [
    "match_df.head()"
   ]
  },
  {
   "cell_type": "code",
   "execution_count": 39,
   "metadata": {},
   "outputs": [],
   "source": [
    "import matplotlib.pyplot as plt"
   ]
  },
  {
   "cell_type": "markdown",
   "metadata": {},
   "source": [
    " ## Section 4: Data Modeling\n",
    " \n",
    "###  Building the model \n",
    "##### We will build the model that will predict the results.\n",
    "###### we will use rank_difference and average_rank and point_difference and is_stake and is_worldcup to train the model."
   ]
  },
  {
   "cell_type": "code",
   "execution_count": 40,
   "metadata": {},
   "outputs": [],
   "source": [
    "from sklearn import ensemble\n",
    "from sklearn.model_selection import train_test_split\n",
    "from sklearn.metrics import confusion_matrix, roc_curve, roc_auc_score\n",
    "from sklearn.pipeline import Pipeline\n",
    "from sklearn.preprocessing import PolynomialFeatures\n",
    "\n",
    "\n",
    "\n",
    "from sklearn.ensemble import RandomForestClassifier"
   ]
  },
  {
   "cell_type": "code",
   "execution_count": 41,
   "metadata": {},
   "outputs": [],
   "source": [
    "X = match_df.loc[:,['average_rank', 'rank_difference', 'point_difference', 'is_stake', 'is_worldcup']]\n",
    "y = match_df['is_won']\n",
    "X_train, X_test, y_train, y_test = train_test_split(X, y, test_size=0.29, random_state=42)"
   ]
  },
  {
   "cell_type": "markdown",
   "metadata": {},
   "source": [
    "### We chose random forest as it is the closet alghrothem to what we need."
   ]
  },
  {
   "cell_type": "code",
   "execution_count": 42,
   "metadata": {},
   "outputs": [
    {
     "data": {
      "text/plain": [
       "64.180000000000007"
      ]
     },
     "execution_count": 42,
     "metadata": {},
     "output_type": "execute_result"
    }
   ],
   "source": [
    "random_forest = RandomForestClassifier(n_estimators=100)\n",
    "random_forest.fit(X_train, y_train)\n",
    "Y_pred = random_forest.predict(X_test)\n",
    "random_forest.score(X_train, y_train)\n",
    "acc_random_forest = round(random_forest.score(X_test, y_test) * 100, 2)\n",
    "acc_random_forest"
   ]
  },
  {
   "cell_type": "code",
   "execution_count": 43,
   "metadata": {},
   "outputs": [],
   "source": [
    "model = random_forest"
   ]
  },
  {
   "cell_type": "code",
   "execution_count": 44,
   "metadata": {},
   "outputs": [],
   "source": [
    "import numpy as np"
   ]
  },
  {
   "cell_type": "markdown",
   "metadata": {},
   "source": [
    "## Simulate the world cup results by using functions\n",
    " "
   ]
  },
  {
   "cell_type": "code",
   "execution_count": 45,
   "metadata": {},
   "outputs": [],
   "source": [
    "#opponents = ['First match \\nagainst', 'Second match\\n against', 'Third match\\n against']\n",
    "#Building new dataframe named world_cup contains all world cup teams\n",
    "world_cup = teams_df.set_index(['Team'])\n",
    "# Adding points column to world_cup dataframe, which we will collect the points for each team\n",
    "world_cup['points'] = 0\n",
    "# For this column we will sum the total probabilty for each team\n",
    "world_cup['total_prob'] = 0\n",
    "# Here the expected point for each team\n",
    "world_cup['expected points'] = 0\n",
    "\n",
    "#world_cup['rank'] = None\n",
    "\n",
    "country_win_prob = {}\n",
    "\n",
    "for country in teams_df['Team'].unique():\n",
    "    country_win_prob[country] = list()"
   ]
  },
  {
   "cell_type": "markdown",
   "metadata": {},
   "source": [
    "### Here we will build a function to simulate the group stage\n",
    "##### We will give it the teams particpate in the group stage and it will give us the precentage win for each match."
   ]
  },
  {
   "cell_type": "code",
   "execution_count": 46,
   "metadata": {},
   "outputs": [],
   "source": [
    "from itertools import combinations\n",
    "import numpy as np\n",
    "\n",
    "# Margin for draw cases:\n",
    "Margin=0.05\n",
    "\n",
    "#define a function to use with each stage like Group, Round of 16, etc.\n",
    "def predictG(stage):\n",
    "    \"\"\"\n",
    "    returns the result of each match in the group stage\n",
    "    \n",
    "    input:\n",
    "        stage: Dataframe of the teams and their groups\n",
    "        \n",
    "    \"\"\"\n",
    "    for group in stage['Group'].drop_duplicates():\n",
    "        print('_Starting Group {}:_'.format(group))\n",
    "\n",
    "        for home, away in combinations(stage.query('Group == \"{}\"'.format(group)).values, 2):\n",
    "            print(\"{} vs. {}: \".format(home[0], away[0]), end='')\n",
    "\n",
    "            home = home[0]\n",
    "            away = away[0]\n",
    "\n",
    "            # Create a row for each match\n",
    "            row = pd.DataFrame(np.array([[np.nan, np.nan, np.nan, True, True]]), columns=X_train.columns)\n",
    "\n",
    "            home_rank = rank_df.loc[home, 'rank']\n",
    "            home_points = rank_df.loc[home, 'points']\n",
    "            opp_rank = rank_df.loc[away, 'rank']\n",
    "            opp_points = rank_df.loc[away, 'points']\n",
    "\n",
    "            row['average_rank'] = (home_rank + opp_rank) / 2\n",
    "            row['rank_difference'] = home_rank - opp_rank\n",
    "            row['point_difference'] = home_points - opp_points\n",
    "\n",
    "            # Model Output\n",
    "            home_win_prob = model.predict_proba(row)[:,1][0]\n",
    "\n",
    "\n",
    "\n",
    "            # Saving Model Output\n",
    "            world_cup.loc[home, 'total_prob'] += home_win_prob\n",
    "            world_cup.loc[away, 'total_prob'] += 1-home_win_prob\n",
    "\n",
    "            # Determining Win / Draw / Lose\n",
    "            points = 0\n",
    "            if home_win_prob <= 0.5 - Margin :\n",
    "                print(\"{} wins with {:.2f}\".format(away, 1-home_win_prob))\n",
    "                world_cup.loc[away, 'points'] += 3\n",
    "                world_cup.loc[away, 'expected points'] += (1-home_win_prob) * 3\n",
    "            if home_win_prob > 0.5 - Margin:\n",
    "                points = 1\n",
    "            if home_win_prob >= 0.5 + Margin:\n",
    "                points = 3\n",
    "                world_cup.loc[home, 'points'] += 3\n",
    "                world_cup.loc[home, 'expected points'] += home_win_prob * 3\n",
    "                print(\"{} wins with {:.2f}\".format(home, home_win_prob))\n",
    "            if points == 1:\n",
    "                print(\"Draw\")\n",
    "                world_cup.loc[home, 'points'] += 1\n",
    "                world_cup.loc[away, 'points'] += 1\n",
    "                world_cup.loc[home, 'expected points'] += home_win_prob * 1\n",
    "                world_cup.loc[away, 'expected points'] += (1-home_win_prob) * 1"
   ]
  },
  {
   "cell_type": "markdown",
   "metadata": {},
   "source": [
    "## Section 5: Evaluate the Results"
   ]
  },
  {
   "cell_type": "code",
   "execution_count": 47,
   "metadata": {
    "scrolled": true
   },
   "outputs": [
    {
     "name": "stdout",
     "output_type": "stream",
     "text": [
      "_Starting Group A:_\n",
      "Qatar vs. Ecuador: Qatar wins with 0.58\n",
      "Qatar vs. Senegal: Senegal wins with 0.80\n",
      "Qatar vs. Netherlands: Netherlands wins with 0.72\n",
      "Ecuador vs. Senegal: Senegal wins with 0.74\n",
      "Ecuador vs. Netherlands: Draw\n",
      "Senegal vs. Netherlands: Netherlands wins with 0.79\n",
      "_Starting Group B:_\n",
      "England vs. Iran: England wins with 0.89\n",
      "England vs. USA: Draw\n",
      "England vs. Wales: England wins with 0.85\n",
      "Iran vs. USA: USA wins with 0.55\n",
      "Iran vs. Wales: Draw\n",
      "USA vs. Wales: USA wins with 0.56\n",
      "_Starting Group C:_\n",
      "Argentina vs. Saudi Arabia: Argentina wins with 0.74\n",
      "Argentina vs. Mexico: Draw\n",
      "Argentina vs. Poland: Argentina wins with 0.65\n",
      "Saudi Arabia vs. Mexico: Mexico wins with 0.84\n",
      "Saudi Arabia vs. Poland: Poland wins with 0.82\n",
      "Mexico vs. Poland: Poland wins with 0.66\n",
      "_Starting Group D:_\n",
      "France vs. Denmark: France wins with 0.83\n",
      "France vs. Tunisia: France wins with 0.93\n",
      "France vs. Australia: France wins with 0.87\n",
      "Denmark vs. Tunisia: Denmark wins with 0.68\n",
      "Denmark vs. Australia: Denmark wins with 0.83\n",
      "Tunisia vs. Australia: Draw\n",
      "_Starting Group E:_\n",
      "Spain vs. Costa Rica: Spain wins with 0.62\n",
      "Spain vs. Germany: Spain wins with 0.67\n",
      "Spain vs. Japan: Spain wins with 0.68\n",
      "Costa Rica vs. Germany: Germany wins with 0.81\n",
      "Costa Rica vs. Japan: Japan wins with 0.55\n",
      "Germany vs. Japan: Japan wins with 0.56\n",
      "_Starting Group F:_\n",
      "Belgium vs. Canada: Belgium wins with 0.83\n",
      "Belgium vs. Morocco: Belgium wins with 0.86\n",
      "Belgium vs. Croatia: Belgium wins with 0.73\n",
      "Canada vs. Morocco: Morocco wins with 0.85\n",
      "Canada vs. Croatia: Croatia wins with 0.66\n",
      "Morocco vs. Croatia: Croatia wins with 0.77\n",
      "_Starting Group G:_\n",
      "Brazil vs. Serbia: Brazil wins with 0.66\n",
      "Brazil vs. Switzerland: Brazil wins with 0.75\n",
      "Brazil vs. Cameroon: Brazil wins with 0.89\n",
      "Serbia vs. Switzerland: Draw\n",
      "Serbia vs. Cameroon: Draw\n",
      "Switzerland vs. Cameroon: Switzerland wins with 0.80\n",
      "_Starting Group H:_\n",
      "Portugal vs. Ghana: Portugal wins with 0.82\n",
      "Portugal vs. Uruguay: Portugal wins with 0.60\n",
      "Portugal vs. South Korea: Portugal wins with 0.66\n",
      "Ghana vs. Uruguay: Uruguay wins with 0.62\n",
      "Ghana vs. South Korea: South Korea wins with 0.60\n",
      "Uruguay vs. South Korea: Draw\n"
     ]
    }
   ],
   "source": [
    "predictG(teams_df)"
   ]
  },
  {
   "cell_type": "markdown",
   "metadata": {},
   "source": [
    "### Question 1: Which teams have the better odds to domenate their groups according to KICKOFF?\n",
    "#### As we can see here Belgium and France have the odds to domenate their groups.\n"
   ]
  },
  {
   "cell_type": "code",
   "execution_count": 48,
   "metadata": {
    "scrolled": true
   },
   "outputs": [
    {
     "name": "stdout",
     "output_type": "stream",
     "text": [
      "___Starting group A:___\n",
      "Qatar :  1.74\n",
      "Ecuador :  0.46\n",
      "Senegal :  4.62\n",
      "Netherlands :  5.07\n",
      "___Starting group B:___\n",
      "England :  5.74\n",
      "Iran :  0.5\n",
      "USA :  3.81\n",
      "Wales :  0.5\n",
      "___Starting group C:___\n",
      "Argentina :  4.71\n",
      "Saudi Arabia :  0.0\n",
      "Mexico :  2.98\n",
      "Poland :  4.43\n",
      "___Starting group D:___\n",
      "France :  7.89\n",
      "Denmark :  4.53\n",
      "Tunisia :  0.47\n",
      "Australia :  0.53\n",
      "___Starting group E:___\n",
      "Spain :  5.92\n",
      "Costa Rica :  0.0\n",
      "Germany :  2.43\n",
      "Japan :  3.33\n",
      "___Starting group F:___\n",
      "Belgium :  7.26\n",
      "Canada :  0.0\n",
      "Morocco :  2.55\n",
      "Croatia :  4.29\n",
      "___Starting group G:___\n",
      "Brazil :  6.91\n",
      "Serbia :  0.98\n",
      "Switzerland :  2.91\n",
      "Cameroon :  0.51\n",
      "___Starting group H:___\n",
      "Portugal :  6.26\n",
      "Ghana :  0.0\n",
      "Uruguay :  2.35\n",
      "South Korea :  2.31\n"
     ]
    }
   ],
   "source": [
    "for group in teams_df['Group'].drop_duplicates():\n",
    "    print('___Starting group {}:___'.format(group))\n",
    "    teams = teams_df.query('Group == \"{}\"'.format(group)).values\n",
    "    for team_info in teams:\n",
    "        team_name = team_info[0]\n",
    "        print(team_name, \": \", round(world_cup.loc[team_name, \"expected points\"],2))\n",
    "    \n",
    "   "
   ]
  },
  {
   "cell_type": "markdown",
   "metadata": {},
   "source": [
    "##### We will create a list for each group so we save in them the top2 teams"
   ]
  },
  {
   "cell_type": "code",
   "execution_count": 49,
   "metadata": {},
   "outputs": [],
   "source": [
    "A=[]\n",
    "B=[]\n",
    "C=[]\n",
    "D=[]\n",
    "E=[]\n",
    "F=[]\n",
    "G=[]\n",
    "H=[]\n",
    "\n",
    "world_cup[\"Rank\"] = world_cup[\"expected points\"].rank()\n",
    "world_cup\n",
    "  \n",
    "world_cup.sort_values([\"Group\",\"expected points\"], inplace = True,ascending=False)\n",
    "grouped = world_cup.groupby(['Group'])\n",
    "A = grouped.get_group(\"A\")\n",
    "A = A.reset_index()\n",
    "B = grouped.get_group(\"B\")\n",
    "B = B.reset_index()\n",
    "C = grouped.get_group(\"C\")\n",
    "C = C.reset_index()\n",
    "D = grouped.get_group(\"D\")\n",
    "D = D.reset_index()\n",
    "E = grouped.get_group(\"E\")\n",
    "E = E.reset_index()\n",
    "F = grouped.get_group(\"F\")\n",
    "F = F.reset_index()\n",
    "G = grouped.get_group(\"G\")\n",
    "G = G.reset_index()\n",
    "H = grouped.get_group(\"H\")\n",
    "H = H.reset_index()\n"
   ]
  },
  {
   "cell_type": "markdown",
   "metadata": {},
   "source": [
    "##### based on the position of each team it will determine the matches of 16th stage"
   ]
  },
  {
   "cell_type": "code",
   "execution_count": 50,
   "metadata": {},
   "outputs": [
    {
     "data": {
      "text/plain": [
       "[['Netherlands', 'R1'],\n",
       " ['USA', 'R1'],\n",
       " ['England', 'R2'],\n",
       " ['Senegal', 'R2'],\n",
       " ['Argentina', 'R3'],\n",
       " ['Denmark', 'R3'],\n",
       " ['France', 'R4'],\n",
       " ['Poland', 'R4'],\n",
       " ['Spain', 'R5'],\n",
       " ['Croatia', 'R5'],\n",
       " ['Belgium', 'R6'],\n",
       " ['Japan', 'R6'],\n",
       " ['Brazil', 'R7'],\n",
       " ['Uruguay', 'R7'],\n",
       " ['Portugal', 'R8'],\n",
       " ['Switzerland', 'R8']]"
      ]
     },
     "execution_count": 50,
     "metadata": {},
     "output_type": "execute_result"
    }
   ],
   "source": [
    "round16=[[A.iloc[0,0],'R1'],[B.iloc[1,0],'R1'],[B.iloc[0,0],'R2'],[A.iloc[1,0],'R2'],\n",
    "         [C.iloc[0,0],'R3'],[D.iloc[1,0],'R3'],[D.iloc[0,0],'R4'],[C.iloc[1,0],'R4'],\n",
    "         [E.iloc[0,0],'R5'],[F.iloc[1,0],'R5'],[F.iloc[0,0],'R6'],[E.iloc[1,0],'R6'],\n",
    "         [G.iloc[0,0],'R7'],[H.iloc[1,0],'R7'],[H.iloc[0,0],'R8'],[G.iloc[1,0],'R8']]\n",
    "round_16_df = pd.DataFrame(round16, columns=['Team', 'Group'])\n",
    "round16"
   ]
  },
  {
   "cell_type": "markdown",
   "metadata": {},
   "source": [
    "### Now we will create a function named predict\n",
    "###### it's similar to predictG function that we built before, but this function for the stages after groups, like Round16, Quarters, Semi, Final"
   ]
  },
  {
   "cell_type": "code",
   "execution_count": 52,
   "metadata": {},
   "outputs": [],
   "source": [
    "# a list that saved in it the winners on each stage\n",
    "winners=[]\n",
    "def predict(stage):\n",
    "    \"\"\"\n",
    "    returns the result of each match in the knockout stages\n",
    "    \n",
    "    input:\n",
    "        stage: Dataframe of the teams and thier knockout stage\n",
    "    \"\"\"\n",
    "        \n",
    "    for group in stage['Group'].drop_duplicates():\n",
    "        print('_Starting Match {}:_'.format(group))\n",
    "\n",
    "        for home, away in combinations(stage.query('Group == \"{}\"'.format(group)).values, 2):\n",
    "            print(\"{} vs. {}: \".format(home[0], away[0]), end='')\n",
    "\n",
    "            home = home[0]\n",
    "            away = away[0]\n",
    "\n",
    "            # Create a row for each match\n",
    "            row = pd.DataFrame(np.array([[np.nan, np.nan, np.nan, True, True]]), columns=X_train.columns)\n",
    "\n",
    "            home_rank = rank_df.loc[home, 'rank']\n",
    "            home_points = rank_df.loc[home, 'points']\n",
    "            opp_rank = rank_df.loc[away, 'rank']\n",
    "            opp_points = rank_df.loc[away, 'points']\n",
    "\n",
    "            row['average_rank'] = (home_rank + opp_rank) / 2\n",
    "            row['rank_difference'] = home_rank - opp_rank\n",
    "            row['point_difference'] = home_points - opp_points\n",
    "\n",
    "            # Model Output\n",
    "            home_win_prob = model.predict_proba(row)[:,1][0]\n",
    "\n",
    "\n",
    "\n",
    "            # Saving Model Output\n",
    "            world_cup.loc[home, 'total_prob'] += home_win_prob\n",
    "            world_cup.loc[away, 'total_prob'] += 1-home_win_prob\n",
    "\n",
    "            # Determining Win / Lose\n",
    "            points = 0\n",
    "            if home_win_prob < 0.5  :\n",
    "                print(\"{} wins with {:.2f}\".format(away, 1-home_win_prob))\n",
    "                # if the winner in away place we add it in winners list\n",
    "                winners.append(away)\n",
    "            if home_win_prob > 0.5 :\n",
    "                print(\"{} wins with {:.2f}\".format(home, home_win_prob))\n",
    "                # if the winner in home place we add it in winners list\n",
    "                winners.append(home)\n",
    "            if home_win_prob==0.5:\n",
    "                import random\n",
    "                rn = random.randint(0,2)\n",
    "                if rn==0:\n",
    "                    print(\"{} wins with {:.2f}\".format(home, home_win_prob))\n",
    "                    winners.append(home)\n",
    "                else:\n",
    "                    print(\"{} wins with {:.2f}\".format(away, 1-home_win_prob))\n",
    "                    winners.append(away)"
   ]
  },
  {
   "cell_type": "markdown",
   "metadata": {},
   "source": [
    "#### Now we will pass round 16 teams to the function to predict the winners"
   ]
  },
  {
   "cell_type": "code",
   "execution_count": 53,
   "metadata": {
    "scrolled": true
   },
   "outputs": [
    {
     "name": "stdout",
     "output_type": "stream",
     "text": [
      "_Starting Match R1:_\n",
      "Netherlands vs. USA: Netherlands wins with 0.83\n",
      "_Starting Match R2:_\n",
      "England vs. Senegal: England wins with 0.75\n",
      "_Starting Match R3:_\n",
      "Argentina vs. Denmark: Argentina wins with 0.66\n",
      "_Starting Match R4:_\n",
      "France vs. Poland: Poland wins with 0.55\n",
      "_Starting Match R5:_\n",
      "Spain vs. Croatia: Spain wins with 0.65\n",
      "_Starting Match R6:_\n",
      "Belgium vs. Japan: Japan wins with 0.56\n",
      "_Starting Match R7:_\n",
      "Brazil vs. Uruguay: Brazil wins with 0.57\n",
      "_Starting Match R8:_\n",
      "Portugal vs. Switzerland: Switzerland wins with 0.73\n"
     ]
    }
   ],
   "source": [
    "predict(round_16_df)"
   ]
  },
  {
   "cell_type": "markdown",
   "metadata": {},
   "source": [
    "#### We can see now the winners in winners list"
   ]
  },
  {
   "cell_type": "code",
   "execution_count": 54,
   "metadata": {},
   "outputs": [
    {
     "data": {
      "text/plain": [
       "['Netherlands',\n",
       " 'England',\n",
       " 'Argentina',\n",
       " 'Poland',\n",
       " 'Spain',\n",
       " 'Japan',\n",
       " 'Brazil',\n",
       " 'Switzerland']"
      ]
     },
     "execution_count": 54,
     "metadata": {},
     "output_type": "execute_result"
    }
   ],
   "source": [
    "winners"
   ]
  },
  {
   "cell_type": "markdown",
   "metadata": {},
   "source": [
    "##### based on the position of each team it will determine the matches of quarters stage"
   ]
  },
  {
   "cell_type": "code",
   "execution_count": 55,
   "metadata": {},
   "outputs": [],
   "source": [
    "quarters=[[winners[0],'Q1'],[winners[2],'Q1'],[winners[1],'Q2'],[winners[3],'Q2'],\n",
    "         [winners[4],'Q3'],[winners[6],'Q3'],[winners[5],'Q4'],[winners[7],'Q4']]\n",
    "quarters_df = pd.DataFrame(quarters, columns=['Team', 'Group'])\n",
    "quarters_df\n",
    "winners=[]"
   ]
  },
  {
   "cell_type": "markdown",
   "metadata": {},
   "source": [
    "##### It will call function predict which takes DataFrame of teams that qualified to the quarters round\n",
    "\n",
    "###### Disply the winning team "
   ]
  },
  {
   "cell_type": "code",
   "execution_count": 56,
   "metadata": {},
   "outputs": [
    {
     "name": "stdout",
     "output_type": "stream",
     "text": [
      "_Starting Match Q1:_\n",
      "Netherlands vs. Argentina: Argentina wins with 0.66\n",
      "_Starting Match Q2:_\n",
      "England vs. Poland: England wins with 0.82\n",
      "_Starting Match Q3:_\n",
      "Spain vs. Brazil: Spain wins with 0.54\n",
      "_Starting Match Q4:_\n",
      "Japan vs. Switzerland: Japan wins with 0.51\n"
     ]
    }
   ],
   "source": [
    "predict(quarters_df)"
   ]
  },
  {
   "cell_type": "code",
   "execution_count": 57,
   "metadata": {},
   "outputs": [
    {
     "data": {
      "text/plain": [
       "['Argentina', 'England', 'Spain', 'Japan']"
      ]
     },
     "execution_count": 57,
     "metadata": {},
     "output_type": "execute_result"
    }
   ],
   "source": [
    "winners"
   ]
  },
  {
   "cell_type": "markdown",
   "metadata": {},
   "source": [
    "##### based on the position of each team it will determine the matches of semi-final stage"
   ]
  },
  {
   "cell_type": "code",
   "execution_count": 58,
   "metadata": {},
   "outputs": [],
   "source": [
    "semi=[[winners[2],'S1'],[winners[0],'S1'],[winners[3],'S2'],[winners[1],'S2']]\n",
    "semi_df = pd.DataFrame(semi, columns=['Team', 'Group'])\n",
    "semi_df\n",
    "winners=[]"
   ]
  },
  {
   "cell_type": "markdown",
   "metadata": {},
   "source": [
    "   ### Question 2: Which team will be the black horse in the World Cup ?\n",
    "#### Japan has made it to the semis so they are the black horse in the World Cup because they haven't reach a quarter final in thier history!"
   ]
  },
  {
   "cell_type": "code",
   "execution_count": 59,
   "metadata": {},
   "outputs": [
    {
     "name": "stdout",
     "output_type": "stream",
     "text": [
      "_Starting Match S1:_\n",
      "Spain vs. Argentina: Argentina wins with 0.65\n",
      "_Starting Match S2:_\n",
      "Japan vs. England: England wins with 0.96\n"
     ]
    }
   ],
   "source": [
    "predict(semi_df)"
   ]
  },
  {
   "cell_type": "markdown",
   "metadata": {},
   "source": [
    "##### Now in the last stage it will determine the winning team in FIFA-WORLD-CUP 2022"
   ]
  },
  {
   "cell_type": "code",
   "execution_count": 60,
   "metadata": {},
   "outputs": [
    {
     "data": {
      "text/html": [
       "<div>\n",
       "<style scoped>\n",
       "    .dataframe tbody tr th:only-of-type {\n",
       "        vertical-align: middle;\n",
       "    }\n",
       "\n",
       "    .dataframe tbody tr th {\n",
       "        vertical-align: top;\n",
       "    }\n",
       "\n",
       "    .dataframe thead th {\n",
       "        text-align: right;\n",
       "    }\n",
       "</style>\n",
       "<table border=\"1\" class=\"dataframe\">\n",
       "  <thead>\n",
       "    <tr style=\"text-align: right;\">\n",
       "      <th></th>\n",
       "      <th>Team</th>\n",
       "      <th>Group</th>\n",
       "    </tr>\n",
       "  </thead>\n",
       "  <tbody>\n",
       "    <tr>\n",
       "      <th>0</th>\n",
       "      <td>England</td>\n",
       "      <td>F1</td>\n",
       "    </tr>\n",
       "    <tr>\n",
       "      <th>1</th>\n",
       "      <td>Argentina</td>\n",
       "      <td>F1</td>\n",
       "    </tr>\n",
       "  </tbody>\n",
       "</table>\n",
       "</div>"
      ],
      "text/plain": [
       "        Team Group\n",
       "0    England    F1\n",
       "1  Argentina    F1"
      ]
     },
     "execution_count": 60,
     "metadata": {},
     "output_type": "execute_result"
    }
   ],
   "source": [
    "final=[[winners[1],'F1'],[winners[0],'F1']]\n",
    "final_df = pd.DataFrame(final, columns=['Team', 'Group'])\n",
    "final_df"
   ]
  },
  {
   "cell_type": "markdown",
   "metadata": {},
   "source": [
    "\n",
    " ### Question 3: Who will win the World Cup according to KICKOFF?\n",
    " #### As we can see here Argentina will win the World Cup!"
   ]
  },
  {
   "cell_type": "code",
   "execution_count": 61,
   "metadata": {
    "scrolled": true
   },
   "outputs": [
    {
     "name": "stdout",
     "output_type": "stream",
     "text": [
      "_Starting Match F1:_\n",
      "England vs. Argentina: Argentina wins with 0.80\n"
     ]
    }
   ],
   "source": [
    "# POST /prediction_final\n",
    "predict(final_df)"
   ]
  },
  {
   "cell_type": "code",
   "execution_count": 62,
   "metadata": {},
   "outputs": [],
   "source": [
    "#import pydantic"
   ]
  },
  {
   "cell_type": "code",
   "execution_count": 63,
   "metadata": {},
   "outputs": [],
   "source": [
    "#import pickle"
   ]
  },
  {
   "cell_type": "code",
   "execution_count": 64,
   "metadata": {},
   "outputs": [],
   "source": [
    "#filename='Kickoff_model.pkl'\n",
    "#pickle.dump(random_forest,open(filename,'wb'))"
   ]
  },
  {
   "cell_type": "code",
   "execution_count": 65,
   "metadata": {},
   "outputs": [],
   "source": [
    "#loaded_model=pickle.load(open('Kickoff_model.pkl','rb'))"
   ]
  }
 ],
 "metadata": {
  "kernelspec": {
   "display_name": "Python 3",
   "language": "python",
   "name": "python3"
  },
  "language_info": {
   "codemirror_mode": {
    "name": "ipython",
    "version": 3
   },
   "file_extension": ".py",
   "mimetype": "text/x-python",
   "name": "python",
   "nbconvert_exporter": "python",
   "pygments_lexer": "ipython3",
   "version": "3.6.3"
  },
  "vscode": {
   "interpreter": {
    "hash": "aee8b7b246df8f9039afb4144a1f6fd8d2ca17a180786b69acc140d282b71a49"
   }
  }
 },
 "nbformat": 4,
 "nbformat_minor": 5
}
